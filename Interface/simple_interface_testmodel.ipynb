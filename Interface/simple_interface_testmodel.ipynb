{
 "cells": [
  {
   "cell_type": "code",
   "execution_count": 1,
   "metadata": {},
   "outputs": [],
   "source": [
    "import tkinter as tk\n",
    "from tkinter import filedialog\n",
    "from PIL import Image, ImageTk\n",
    "import cv2\n",
    "import numpy as np\n",
    "from tensorflow.keras.models import load_model"
   ]
  },
  {
   "cell_type": "code",
   "execution_count": 2,
   "metadata": {},
   "outputs": [],
   "source": [
    "\n",
    "\n",
    "# Load your trained model\n",
    "model = load_model(\"D:\\\\SKAY\\\\Projects\\\\KEEP\\\\VScode\\\\Pneumonia\\\\Models\\\\Pnemoniamodel.h5\")  \n",
    "\n",
    "# Function to preprocess images for prediction\n",
    "def preprocess_image(img):\n",
    "    img = cv2.resize(img, (150, 150))\n",
    "    img = img / 255.0  # Normalize pixel values to [0, 1]\n",
    "    return img\n",
    "\n",
    "# Function to make predictions and update the GUI\n",
    "def predict_image():\n",
    "    file_path = filedialog.askopenfilename(title=\"Select an Image\", filetypes=[(\"Image files\", \"*.jpg;*.jpeg;*.png\")])\n",
    "    if file_path:\n",
    "        img = cv2.imread(file_path)\n",
    "        img_rgb = cv2.cvtColor(img, cv2.COLOR_BGR2RGB)\n",
    "        img_processed = preprocess_image(img_rgb)\n",
    "        img_processed = np.expand_dims(img_processed, axis=0)\n",
    "        prediction = model.predict(img_processed)\n",
    "        predicted_class = \"Pneumonia\" if prediction > 0.5 else \"Normal\"\n",
    "\n",
    "        # Update the GUI with the result\n",
    "        result_label.config(text=f\"Prediction: {predicted_class}\")\n",
    "\n",
    "        # Display the selected image in the GUI\n",
    "        img = Image.fromarray(img_rgb)\n",
    "        img.thumbnail((300, 300))\n",
    "        img = ImageTk.PhotoImage(img)\n",
    "        image_label.config(image=img)\n",
    "        image_label.image = img\n",
    "\n",
    "# Create the main window\n",
    "root = tk.Tk()\n",
    "root.title(\"Pneumonia Detection App\")\n",
    "\n",
    "# Create and configure widgets\n",
    "select_button = tk.Button(root, text=\"Select Image\", command=predict_image)\n",
    "result_label = tk.Label(root, text=\"Prediction: \")\n",
    "image_label = tk.Label(root)\n",
    "\n",
    "# Pack widgets\n",
    "select_button.pack(pady=10)\n",
    "result_label.pack(pady=10)\n",
    "image_label.pack()\n",
    "\n",
    "# Start the main event loop\n",
    "root.mainloop()\n"
   ]
  },
  {
   "cell_type": "code",
   "execution_count": null,
   "metadata": {},
   "outputs": [],
   "source": []
  }
 ],
 "metadata": {
  "kernelspec": {
   "display_name": "suii",
   "language": "python",
   "name": "python3"
  },
  "language_info": {
   "codemirror_mode": {
    "name": "ipython",
    "version": 3
   },
   "file_extension": ".py",
   "mimetype": "text/x-python",
   "name": "python",
   "nbconvert_exporter": "python",
   "pygments_lexer": "ipython3",
   "version": "3.7.12"
  }
 },
 "nbformat": 4,
 "nbformat_minor": 2
}
